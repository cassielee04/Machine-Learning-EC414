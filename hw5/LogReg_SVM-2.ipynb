{
 "cells": [
  {
   "cell_type": "markdown",
   "metadata": {},
   "source": [
    "# Homework 5: Logistic Regression and Support Vector Machines\n",
    "\n",
    "by Natalia Frumkin and Karanraj Chauhan with help from B. Kulis, R. Manzelli, and A. Tsiligkardis"
   ]
  },
  {
   "cell_type": "markdown",
   "metadata": {},
   "source": [
    "## Problem 1: SVM Toy Example\n",
    "\n",
    "Given the following two-class data set:\n",
    "\n",
    "**Class -1: **\n",
    "A = (1,1)\n",
    "B = (2,3)\n",
    "\n",
    "**Class +1: **\n",
    "C = (2,5)\n",
    "D = (4,2)\n",
    "\n",
    "<ol type=\"a\">\n",
    "  <li>Plot the data.</li>\n",
    "  <li>Plot the hyperplane described by w = $(3,2)^T, b = -12$</li>\n",
    "  <li>Calculate the $l_2$ distance of data point C from the hyperplane.</li>\n",
    "  <li>Determine if the hyperplane linearly separates the data. Explain.</li>\n",
    "  <li>Calculate the hard margin SVM hyperplane in canonical form.</li>\n",
    "  <li>Which, if any, data points lie on the SVM hyperplane?</li>\n",
    "</ol>"
   ]
  },
  {
   "cell_type": "markdown",
   "metadata": {},
   "source": [
    "## Problem 2: Logistic Regression"
   ]
  },
  {
   "cell_type": "markdown",
   "metadata": {},
   "source": [
    "<p>In this problem, we will use a logistic regression model to classify emails as \"spam\" (1) or \"non-spam\" (0). Recall that the hypothesis/decision rule in a logistic regression model is given by</p>\n",
    "\n",
    "$$h_\\theta(x) = \\sigma(\\theta^Tx) \\\\ \\text{where } \\sigma  \\text{ is the sigmoid function}$$\n",
    "\n",
    "<p>Since logistic regression does not have a closed form solution, we will use gradient descent to obtain the parameters $\\theta$. We will use the negative log likelihood loss with L2 regularization as the loss function. Mathematically, the loss function $l(\\theta)$ for a given set of parameters $\\theta$ will be,</p>\n",
    "\n",
    "$$l(\\theta) = NLL(\\theta) + \\frac{\\lambda}{2}||\\theta||^2 \\\\ \\text{where } NLL(\\theta) = -\\sum_{i=1}^{n} y_i\\log(h(x_i)) + (1 - y_i)\\log(1 - h(x_i))$$\n",
    "\n",
    "<p>The good news is, you won't have to worry about these equations for implementing gradient descent (hurray!). However, what you will need is the gradient or the derivative of the loss function. For a given $n$$ x $$d$ matrix $X$ of data, $n$ x $1$ vector of labels (0/1) $y$, and corresponding $n$ x $1$ vector of predictions $\\hat{y}$, the loss function gradient is</p>\n",
    "\n",
    "$$\\nabla l(\\theta) = (\\hat{y} - y)^{T} \\cdot X + \\lambda \\cdot \\theta$$\n",
    "\n",
    "<ol type=\"a\">\n",
    "    <li>Load the dataset file spambase_data.csv using pandas, and then split the dataset into a train set and a test set. Note: train/test ratio of 0.8/0.2 has been known to work, but you are welcome to try other values.</li>\n",
    "    <li>Using the loss gradient equation above, implement gradient descent (use only the train set for this) to find the parameters $\\theta$ of the logistic regression model. Note: $learning$ $rate = 0.00001$, $\\lambda$ = $10$, and $number$ $of$ $steps = 3000$ have been known to give a decent accuracy but you are welcome to try other values, especially for $number$ $of$ $steps$.</li>\n",
    "    <li>Report the correct classification rate (CCR) of the model on train data and test data. The CCR is defined as $$CCR = \\frac{num\\_correct\\_predictions}{num\\_samples}$$</li>   \n",
    "</ol>"
   ]
  },
  {
   "cell_type": "code",
   "execution_count": 2,
   "metadata": {},
   "outputs": [],
   "source": [
    "import numpy as np\n",
    "import pandas as pd"
   ]
  },
  {
   "cell_type": "code",
   "execution_count": 312,
   "metadata": {},
   "outputs": [],
   "source": [
    "# read in raw dataset\n",
    "spam_data = pd.read_csv(\"spambase_data.csv\", names = ['0','1','2','3','4','5','6','7','8','9','10','11','12','13','14','15','16','17','18','19','20','21','22','23','24','25','26','27','28','29','30','31','32','33','34','35','36','37','38','39','40','41','42','43','44','45','46','47','48','49','50','51','52','53','54','55','56', \"class\"])\n",
    "spam_data = spam_data.drop(spam_data.index[0])\n",
    "X = spam_data\n",
    "y = spam_data.pop(\"class\")\n",
    "\n",
    "\n",
    "# split into train and test sets\n",
    "from sklearn.model_selection import train_test_split\n",
    "X_train, X_test, y_train, y_test = train_test_split(X, y, test_size = .2)\n",
    "\n",
    "X_train = X_train.values\n",
    "y_train = y_train.values\n",
    "X_test = X_test.values\n",
    "y_test = y_test.values\n",
    "\n",
    "\n",
    "#Augmenting matrix to include bias\n",
    "X_aug = np.append(X_train, np.ones((3680, 1)), axis=1)\n",
    "\n",
    "#X_test = np.append(X_test, np.ones((921, 1)), axis=1)\n",
    "#print(X_test.shape)\n"
   ]
  },
  {
   "cell_type": "code",
   "execution_count": 313,
   "metadata": {},
   "outputs": [],
   "source": [
    "# fit logistic regression model\n",
    "\n",
    "#Randomly generate starting w values. Last w value is for bias\n",
    "w = np.random.rand(58, 1)\n",
    "\n",
    "\n",
    "steps = 30000\n",
    "rate = .00001\n",
    "lam = 10\n",
    "\n",
    "\n",
    "for i in range(steps):\n",
    "    y_hat = 1 / (1 + np.exp(-(X_aug[:, 0:57]@w[0:57, :] + w[57])))\n",
    "    #y_hat = np.sign(X_aug[:, 0:57]@w[0:57, :] + w[57])\n",
    "    y_train = y_train.reshape(3680, 1)\n",
    "\n",
    "    #print(i)\n",
    "    #print((X_aug.T @ (y_hat - y_train)).shape)\n",
    "    #print((lam*w).shape)\n",
    "    grad = X_aug.T @ (y_hat - y_train) + lam*w\n",
    "    #print(grad)\n",
    "    w = w - rate*grad\n",
    "\n",
    "#print(w)"
   ]
  },
  {
   "cell_type": "code",
   "execution_count": 314,
   "metadata": {},
   "outputs": [
    {
     "name": "stdout",
     "output_type": "stream",
     "text": [
      "Train CCR:  0.8152173913043478\n",
      "Test CCR:  0.7947882736156352\n"
     ]
    }
   ],
   "source": [
    "# predict on train data and calculate CCR\n",
    "y_pred = 1 / (1 + np.exp(-(X_aug[:, 0:57]@w[0:57, :] + w[57])))\n",
    "\n",
    "count = 0\n",
    "index = 0\n",
    "for i in y_pred:\n",
    "    if i >= 0.5 and y_train[index] > 0:\n",
    "        count += 1\n",
    "    elif i < 0.5 and y_train[index] == 0:\n",
    "        count += 1\n",
    "    index += 1\n",
    "    \n",
    "print(\"Train CCR: \", count/index)\n",
    "\n",
    "\n",
    "# predict on test data and calculate CCR\n",
    "y_pred2 = 1 / (1 + np.exp(-(X_test@w[0:57, :] + w[57])))\n",
    "\n",
    "count2 = 0\n",
    "index2 = 0\n",
    "for i in y_pred2:\n",
    "\n",
    "    if i >= 0.5 and y_test[index2] > 0:\n",
    "        count2 += 1\n",
    "    elif i < 0.5 and y_test[index2] == 0:\n",
    "        count2 += 1\n",
    "    index2 += 1\n",
    "    \n",
    "print(\"Test CCR: \", count2/index2)"
   ]
  },
  {
   "cell_type": "code",
   "execution_count": null,
   "metadata": {},
   "outputs": [],
   "source": []
  }
 ],
 "metadata": {
  "kernelspec": {
   "display_name": "Python 3",
   "language": "python",
   "name": "python3"
  },
  "language_info": {
   "codemirror_mode": {
    "name": "ipython",
    "version": 3
   },
   "file_extension": ".py",
   "mimetype": "text/x-python",
   "name": "python",
   "nbconvert_exporter": "python",
   "pygments_lexer": "ipython3",
   "version": "3.6.8"
  }
 },
 "nbformat": 4,
 "nbformat_minor": 2
}
