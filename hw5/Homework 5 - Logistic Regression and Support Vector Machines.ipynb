{
 "cells": [
  {
   "cell_type": "markdown",
   "metadata": {},
   "source": [
    "# Homework 5: Logistic Regression and Support Vector Machines\n",
    "\n",
    "by Natalia Frumkin and Karanraj Chauhan with help from B. Kulis, R. Manzelli, and A. Tsiligkardis"
   ]
  },
  {
   "cell_type": "markdown",
   "metadata": {},
   "source": [
    "## Problem 1: SVM Toy Example\n",
    "\n",
    "Given the following two-class data set:\n",
    "\n",
    "**Class -1: **\n",
    "A = (1,1)\n",
    "B = (2,3)\n",
    "\n",
    "**Class +1: **\n",
    "C = (2,5)\n",
    "D = (4,2)\n",
    "\n",
    "<ol type=\"a\">\n",
    "  <li>Plot the data.</li>\n",
    "  <li>Plot the hyperplane described by w = $(3,2)^T, b = -12$</li>\n",
    "  <li>Calculate the $l_2$ distance of data point C from the hyperplane.</li>\n",
    "  <li>Determine if the hyperplane linearly separates the data. Explain.</li>\n",
    "  <li>Calculate the hard margin SVM hyperplane in canonical form.</li>\n",
    "  <li>Which, if any, data points lie on the SVM hyperplane?</li>\n",
    "</ol>"
   ]
  },
  {
   "cell_type": "markdown",
   "metadata": {},
   "source": [
    "## Problem 2: Logistic Regression"
   ]
  },
  {
   "cell_type": "markdown",
   "metadata": {},
   "source": [
    "<p>In this problem, we will use a logistic regression model to classify emails as \"spam\" (1) or \"non-spam\" (0). Recall that the hypothesis/decision rule in a logistic regression model is given by</p>\n",
    "\n",
    "$$h_\\theta(x) = \\sigma(\\theta^Tx) \\\\ \\text{where } \\sigma  \\text{ is the sigmoid function}$$\n",
    "\n",
    "<p>Since logistic regression does not have a closed form solution, we will use gradient descent to obtain the parameters $\\theta$. We will use the negative log likelihood loss with L2 regularization as the loss function. Mathematically, the loss function $l(\\theta)$ for a given set of parameters $\\theta$ will be,</p>\n",
    "\n",
    "$$l(\\theta) = NLL(\\theta) + \\frac{\\lambda}{2}||\\theta||^2 \\\\ \\text{where } NLL(\\theta) = -\\sum_{i=1}^{n} y_i\\log(h(x_i)) + (1 - y_i)\\log(1 - h(x_i))$$\n",
    "\n",
    "<p>The good news is, you won't have to worry about these equations for implementing gradient descent (hurray!). However, what you will need is the gradient or the derivative of the loss function. For a given $n$$ x $$d$ matrix $X$ of data, $n$ x $1$ vector of labels (0/1) $y$, and corresponding $n$ x $1$ vector of predictions $\\hat{y}$, the loss function gradient is</p>\n",
    "\n",
    "$$\\nabla l(\\theta) = (\\hat{y} - y)^{T} \\cdot X + \\lambda \\cdot \\theta$$\n",
    "\n",
    "<ol type=\"a\">\n",
    "    <li>Load the dataset file spambase_data.csv using pandas. The last column in the data is the true labels column i.e. the $y$ vector (1 means spam, 0 means not spam), and the rest of the data is the features matrix i.e. the $X$ matrix. Split the dataset into a train set and a test set. Note: train/test ratio of 0.8/0.2 has been known to work, but you are welcome to try other values.</li>\n",
    "    <li>Using the loss gradient equation above, implement gradient descent (use only the train set for this) to find the parameters $\\theta$ of the logistic regression model. Note: $learning$ $rate = 0.00001$, $\\lambda$ = $10$, and $number$ $of$ $steps = 3000$ have been known to give a decent accuracy but you are welcome to try other values, especially for $number$ $of$ $steps$.</li>\n",
    "    <li>Report the correct classification rate (CCR) of the model on train data and test data. The CCR is defined as $$CCR = \\frac{num\\_correct\\_predictions}{num\\_samples}$$</li>   \n",
    "</ol>"
   ]
  },
  {
   "cell_type": "code",
   "execution_count": 156,
   "metadata": {},
   "outputs": [],
   "source": [
    "import numpy as np\n",
    "import pandas as pd\n",
    "from sklearn.model_selection import train_test_split\n",
    "from sklearn.linear_model import LogisticRegression"
   ]
  },
  {
   "cell_type": "code",
   "execution_count": 157,
   "metadata": {},
   "outputs": [
    {
     "name": "stdout",
     "output_type": "stream",
     "text": [
      "      0     1     2    3     4     5     6     7     8     9  ...    48  \\\n",
      "0  0.00  0.64  0.64  0.0  0.32  0.00  0.00  0.00  0.00  0.00  ...  0.00   \n",
      "1  0.21  0.28  0.50  0.0  0.14  0.28  0.21  0.07  0.00  0.94  ...  0.00   \n",
      "2  0.06  0.00  0.71  0.0  1.23  0.19  0.19  0.12  0.64  0.25  ...  0.01   \n",
      "3  0.00  0.00  0.00  0.0  0.63  0.00  0.31  0.63  0.31  0.63  ...  0.00   \n",
      "4  0.00  0.00  0.00  0.0  0.63  0.00  0.31  0.63  0.31  0.63  ...  0.00   \n",
      "\n",
      "      49   50     51     52     53     54   55    56  57  \n",
      "0  0.000  0.0  0.778  0.000  0.000  3.756   61   278   1  \n",
      "1  0.132  0.0  0.372  0.180  0.048  5.114  101  1028   1  \n",
      "2  0.143  0.0  0.276  0.184  0.010  9.821  485  2259   1  \n",
      "3  0.137  0.0  0.137  0.000  0.000  3.537   40   191   1  \n",
      "4  0.135  0.0  0.135  0.000  0.000  3.537   40   191   1  \n",
      "\n",
      "[5 rows x 58 columns]\n",
      "<class 'numpy.ndarray'>\n"
     ]
    }
   ],
   "source": [
    "# read in raw dataset\n",
    "spambase_df = pd.read_csv(\"spambase_data.csv\")\n",
    "print(spambase_df.head())\n",
    "\n",
    "# split into train and test sets \n",
    "Ydata = np.zeros([4601,1])\n",
    "\n",
    "Ydata = spambase_df['57'].values\n",
    "\n",
    "x_train, x_test, y_train, ytest = train_test_split(spambase_df,Ydata,test_size = 0.20)\n"
   ]
  },
  {
   "cell_type": "code",
   "execution_count": 158,
   "metadata": {
    "scrolled": true
   },
   "outputs": [
    {
     "name": "stderr",
     "output_type": "stream",
     "text": [
      "/Library/Frameworks/Python.framework/Versions/3.6/lib/python3.6/site-packages/ipykernel_launcher.py:6: RuntimeWarning: overflow encountered in exp\n",
      "  \n"
     ]
    },
    {
     "name": "stdout",
     "output_type": "stream",
     "text": [
      "(1, 58)\n",
      "(3680, 1)\n",
      "[[-1.03990078e-01 -2.47811816e+00 -8.31885028e-01  1.50769806e+00\n",
      "   8.28064642e-01  8.59121430e-01  2.85626474e+00  1.71193195e+00\n",
      "   7.41649348e-01 -5.38413544e-01  1.06018054e+00 -8.96557038e+00\n",
      "   1.85817512e-01 -1.14723436e-01  9.41451094e-01  3.77014228e+00\n",
      "   1.43616104e+00  1.11531519e+00 -4.49359444e+00  2.03053100e+00\n",
      "   1.86441620e+00  1.45167363e+00  2.74039695e+00  2.27381987e+00\n",
      "  -1.95243835e+01 -9.81400586e+00 -8.35393765e+00 -4.42570521e+00\n",
      "  -2.99419513e+00 -3.34718255e+00 -1.55426064e+00 -8.48108751e-01\n",
      "  -3.96729890e+00 -1.19817293e+00 -3.53200027e+00 -2.27777785e+00\n",
      "  -5.06975368e+00  1.50771172e-01 -3.13639735e+00 -9.44926430e-01\n",
      "  -1.96897706e+00 -4.13302756e+00 -2.02354295e+00 -2.24169005e+00\n",
      "  -6.45804702e+00 -7.13000841e+00 -1.48149618e-01 -8.92564646e-01\n",
      "  -1.11464367e+00 -2.79308902e+00 -3.02299854e-03  2.97457095e+00\n",
      "   2.14672264e+00  4.84800495e-01 -8.75288451e+00  5.58744475e+00\n",
      "  -1.37419718e+00 -1.53608672e+01]]\n"
     ]
    }
   ],
   "source": [
    "# fit logistic regression model\n",
    "import random\n",
    "import math\n",
    "\n",
    "def sigmoid(x):\n",
    "    return 1 / (1 + np.exp(-x))\n",
    "\n",
    "w_init = np.random.rand(1,58)\n",
    "new_xtrain = x_train.drop('57',axis=1)\n",
    "\n",
    "# print(new_xtrain.shape)\n",
    "\n",
    "nrow = new_xtrain.shape[0]\n",
    "onesX = np.ones((nrow,1))\n",
    "AugX = np.concatenate((new_xtrain,onesX),axis = 1)\n",
    "\n",
    "\n",
    "\n",
    "lam= 10\n",
    "rate = 0.00001\n",
    "steps = 3000\n",
    "\n",
    "# print(y_train.shape)\n",
    "\n",
    "# print(w_init.shape)\n",
    "# print(AugX.shape)\n",
    "\n",
    "y_train = y_train.reshape(3680,1)\n",
    "\n",
    "for i in range(0,3000):\n",
    "    y_hat = sigmoid(w_init@AugX.T).reshape(3680,1)\n",
    "    constant = lam*w_init\n",
    "    slope = y_hat - y_train\n",
    "    loss = slope.T @ AugX + constant\n",
    "    w_init = w_init - rate*(loss)\n",
    "\n",
    "\n",
    "print(w_init)"
   ]
  },
  {
   "cell_type": "code",
   "execution_count": 159,
   "metadata": {},
   "outputs": [
    {
     "name": "stdout",
     "output_type": "stream",
     "text": [
      "CCR for train:  0.6701086956521739\n",
      "CCR for test:  0.6666666666666666\n"
     ]
    },
    {
     "name": "stderr",
     "output_type": "stream",
     "text": [
      "/Library/Frameworks/Python.framework/Versions/3.6/lib/python3.6/site-packages/ipykernel_launcher.py:6: RuntimeWarning: overflow encountered in exp\n",
      "  \n"
     ]
    }
   ],
   "source": [
    "# predict on test data and train data and calculate CCR\n",
    "y_pred = sigmoid(w_init@AugX.T).reshape(3680,1)\n",
    "\n",
    "\n",
    "counter = 0\n",
    "\n",
    "\n",
    "for j in range(0,3680):\n",
    "    if(y_pred[j] >= 0.5):\n",
    "        y_pred[j] = 1\n",
    "    elif(y_pred[j] < 0.5):\n",
    "        y_pred[j] = 0\n",
    "\n",
    "for k in range(0,3680):\n",
    "    if(y_pred[k] == y_train[k]):\n",
    "        counter = counter +1 \n",
    "    \n",
    "print(\"CCR for train: \", counter/3680)\n",
    "\n",
    "\n",
    "# Test\n",
    "new_xtrain2 = x_test.drop('57',axis=1)\n",
    "nrow2 = new_xtrain2.shape[0]\n",
    "onesX2 = np.ones((nrow2,1))\n",
    "AugX2 = np.concatenate((new_xtrain2,onesX2),axis = 1)\n",
    "\n",
    "#print(AugX2.shape)\n",
    "\n",
    "y_pred2 = sigmoid(w_init@AugX2.T).reshape(921,1)\n",
    "\n",
    "counter2 = 0\n",
    "\n",
    "for j in range(0,921):\n",
    "    if(y_pred2[j] >= 0.5):\n",
    "        y_pred2[j] = 1\n",
    "    elif(y_pred2[j] < 0.5):\n",
    "        y_pred2[j] = 0\n",
    "\n",
    "for k in range(0,921):\n",
    "    if(y_pred2[k] == ytest[k]):\n",
    "        counter2 = counter2 +1 \n",
    "    \n",
    "print(\"CCR for test: \", counter2/921)\n",
    "\n",
    "\n",
    "# print(\"CCR for test: \", counter2/)"
   ]
  },
  {
   "cell_type": "code",
   "execution_count": null,
   "metadata": {},
   "outputs": [],
   "source": []
  },
  {
   "cell_type": "code",
   "execution_count": null,
   "metadata": {
    "collapsed": true
   },
   "outputs": [],
   "source": []
  }
 ],
 "metadata": {
  "kernelspec": {
   "display_name": "Python 3",
   "language": "python",
   "name": "python3"
  },
  "language_info": {
   "codemirror_mode": {
    "name": "ipython",
    "version": 3
   },
   "file_extension": ".py",
   "mimetype": "text/x-python",
   "name": "python",
   "nbconvert_exporter": "python",
   "pygments_lexer": "ipython3",
   "version": "3.6.8"
  }
 },
 "nbformat": 4,
 "nbformat_minor": 2
}
