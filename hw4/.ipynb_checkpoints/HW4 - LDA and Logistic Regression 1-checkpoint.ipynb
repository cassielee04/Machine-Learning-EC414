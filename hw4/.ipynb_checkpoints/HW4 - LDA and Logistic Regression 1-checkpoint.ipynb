{
 "cells": [
  {
   "cell_type": "markdown",
   "metadata": {},
   "source": [
    "**EC 414 - Spring 2019**\n",
    "\n",
    "**HW 4 - QDA/LDA & Logistic Regression 1**\n",
    "\n",
    "Due:  Wednesday Feb 27 (In class)"
   ]
  },
  {
   "cell_type": "markdown",
   "metadata": {},
   "source": [
    "**1) Obtaining QDA & LDA Decision Rules: **\n",
    "\n",
    "In this problem, we will consider Quadratic and Linear Discriminant Analysis for $m$ classes where $y \\in \\{1,...,m \\}$ represents a class index. In class, we looked at the simple 2-class LDA. Using the MPE (Most Probable Explanation) rule: \n",
    "\n",
    "$h_{MPE} (\\boldsymbol{x})= \\text{argmax}_{y} p(y|\\boldsymbol{x},\\theta)$, \n",
    "\n",
    "obtain the QDA & LDA decision rules: \n",
    "\n",
    "$h_{QDA} (\\boldsymbol{x}) = \\text{argmin}_y [\\frac{1}{2} (\\boldsymbol{x}-\\boldsymbol{\\mu}_y)^T \\Sigma_y^{-1} (\\boldsymbol{x}-\\boldsymbol{\\mu}_y) + \\frac{1}{2} \\text{log} (\\text{det}(\\Sigma_y)) - \\text{log} (p(y))]$,\n",
    "\n",
    "$h_{LDA} (\\boldsymbol{x}) = \\text{argmax}_y [(\\boldsymbol{\\mu}_y^T \\Sigma^{-1} ) \\cdot \\boldsymbol{x} - \\frac{1}{2} \\boldsymbol{\\mu}_y^T \\Sigma^{-1} \\boldsymbol{\\mu}_y + \\text{log}(p(y))]$.\n",
    "\n",
    "Please show all intermediate steps in your analysis. As a tip, it may be expedient to use Bayes Rule in your analysis along with the fact that, for QDA:\n",
    "\n",
    "$p(\\boldsymbol{x}|y,\\theta) = N(\\boldsymbol{\\mu}_y,\\Sigma_y)(\\boldsymbol{x}) = \\frac{1}{((2 \\pi)^d \\text{ det}(\\Sigma_y))^{1/2}} e^{\\frac{1}{2} (\\boldsymbol{x}-\\boldsymbol{\\mu}_y)^T \\Sigma_y^{-1} (\\boldsymbol{x}-\\boldsymbol{\\mu}_y)}$, \n",
    "\n",
    "and for LDA:\n",
    "\n",
    "$ \\Sigma_y = \\Sigma \\text{ } \\forall \\text{ } y \\in \\{1,...,m \\}$.\n",
    "\n",
    "\n"
   ]
  },
  {
   "cell_type": "markdown",
   "metadata": {},
   "source": [
    "**2) Implementation of LDA**\n",
    "\n",
    "In this problem, we will explore the implementation and application of LDA on an artificial dataset. Using any built in Python command/function for LDA in this problem is prohibited.  "
   ]
  },
  {
   "cell_type": "markdown",
   "metadata": {},
   "source": [
    "a) Generate $3$ $2$D Gaussian clusters of data with the following means and covariances:\n",
    "\n",
    "$\\boldsymbol{\\mu}_1 = [2,2]^T, \\boldsymbol{\\mu}_2 = [-7,-7]^T, \\boldsymbol{\\mu}_3 = [-8,-1]^T$,\n",
    "\n",
    "$\\Sigma = [[0.5,0];[0,0.5]]$.\n",
    "\n",
    "Let each cluster of data have $500$ points. Plot the generated Gaussian data."
   ]
  },
  {
   "cell_type": "code",
   "execution_count": 93,
   "metadata": {},
   "outputs": [
    {
     "data": {
      "image/png": "[encoded data removed]",
      "text/plain": [
       "<Figure size 432x288 with 1 Axes>"
      ]
     },
     "metadata": {
      "needs_background": "light"
     },
     "output_type": "display_data"
    }
   ],
   "source": [
    "# Write code here:\n",
    "\n",
    "import numpy as np\n",
    "import matplotlib\n",
    "from matplotlib import pyplot as plt\n",
    "import scipy\n",
    "from sklearn import svm\n",
    "\n",
    "\n",
    "Mean1 = np.array([2,2])\n",
    "Mean1 = Mean1.T\n",
    "\n",
    "Mean2 = np.array([-7,-7])\n",
    "Mean2 = Mean2.T\n",
    "\n",
    "Mean3 = np.array([-8,-1])\n",
    "Mean3 = Mean3.T\n",
    "\n",
    "cov = np.array([[0.5,0],[0,0.5]])\n",
    "\n",
    "ones = np.ones(500)\n",
    "\n",
    "label1 = np.ones(500).reshape(500,1)\n",
    "label2 = (ones+1).reshape(500,1)\n",
    "label3 = (ones+2).reshape(500,1)\n",
    "\n",
    "\n",
    "x1_samples = np.random.multivariate_normal(Mean1,cov,500)\n",
    "x1_samples = np.column_stack((x1_samples, label1))\n",
    "\n",
    "x2_samples = np.random.multivariate_normal(Mean2,cov,500)\n",
    "x2_samples = np.column_stack((x2_samples, label2))\n",
    "\n",
    "x3_samples = np.random.multivariate_normal(Mean3,cov,500)\n",
    "x3_samples = np.column_stack((x3_samples, label3))\n",
    "\n",
    "\n",
    "\n",
    "plt.scatter(x1_samples[:,0],x1_samples[:,1], marker='+')\n",
    "plt.scatter(x2_samples[:,0],x2_samples[:,1], c= 'green', marker='o')\n",
    "plt.scatter(x3_samples[:,0],x3_samples[:,1], marker='*')\n",
    "\n",
    "\n",
    "plt.show()\n",
    "\n",
    "\n"
   ]
  },
  {
   "cell_type": "markdown",
   "metadata": {},
   "source": [
    "b) Randomly split all the data and labels into training and testing sets using an $85\\%$/$15\\%$  train/test split. "
   ]
  },
  {
   "cell_type": "code",
   "execution_count": 125,
   "metadata": {},
   "outputs": [
    {
     "name": "stdout",
     "output_type": "stream",
     "text": [
      "(1275, 2)\n",
      "(1275,)\n"
     ]
    }
   ],
   "source": [
    "from sklearn.model_selection import train_test_split\n",
    "\n",
    "\n",
    "newdata = []\n",
    "\n",
    "newdatax = np.concatenate((x1_samples[:,0],x2_samples[:,0],x3_samples[:,0]),axis=0)\n",
    "newdatay = np.concatenate((x1_samples[:,1],x2_samples[:,1],x3_samples[:,1]),axis=0)\n",
    "labels = np.concatenate((x1_samples[:,2],x2_samples[:,2],x3_samples[:,2]),axis=0)\n",
    "\n",
    "newy = np.stack((newdatay,labels)).T\n",
    "\n",
    "# newdata = newdata.T\n",
    "\n",
    "# print(newdata.shape)\n",
    "\n",
    "x_train, x_test, y_train, ytest = train_test_split(newdatax,newy,test_size = 0.15)\n",
    "\n",
    "print(y_train.shape)\n",
    "print(x_train.shape)\n",
    "\n",
    "\n",
    "\n",
    "\n",
    "\n",
    "\n",
    "\n",
    "\n",
    "\n"
   ]
  },
  {
   "cell_type": "markdown",
   "metadata": {},
   "source": [
    "c) Obtain the necessary parameter values for ($\\widehat{\\boldsymbol{\\mu}}_y \\text{ } \\forall \\text{ } y$,$\\widehat{\\Sigma}$,$\\widehat{p}(y)$) used for obtaining the LDA decision rule derived in Q$1$.  As a reminder, the preceding values can be obtained as:\n",
    "\n",
    "$\\widehat{p}(y) = \\frac{n_y}{n}$,\n",
    "\n",
    "$\\widehat{\\boldsymbol{\\mu}}_y = \\frac{1}{n_y} \\sum_{i \\in \\{ 1,...,n\\}: y = y_j} \\boldsymbol{x}_i$,\n",
    "\n",
    "$\\widehat{\\Sigma} = \\frac{1}{n} \\sum_{i=1}^n (\\boldsymbol{x}_i-\\widehat{\\boldsymbol{\\mu}}_{y_i})(\\boldsymbol{x}_i-\\widehat{\\boldsymbol{\\mu}}_{y_i})^T$,\n",
    "\n",
    "where $n$ is the number of training data points and $n_y$ is the number of occurrences of class $y$ in the training set. \n",
    "\n",
    "Please display the resulting values of the preceding variables using print statements.  "
   ]
  },
  {
   "cell_type": "code",
   "execution_count": 95,
   "metadata": {
    "scrolled": true
   },
   "outputs": [
    {
     "name": "stdout",
     "output_type": "stream",
     "text": [
      "p values:\n",
      "  [0.3333333333333333, 0.3247058823529412, 0.3419607843137255]\n",
      "Empirical means:\n",
      " [[ 2.03415796  2.06110526]\n",
      " [-7.00418094 -7.02327798]\n",
      " [-8.00652367 -0.98978006]]\n",
      "covariance:\n",
      " [[0.45094118 0.0012973 ]\n",
      " [0.0012973  0.48524357]]\n"
     ]
    }
   ],
   "source": [
    "# Write code here:\n",
    "\n",
    "Ymean =[]\n",
    "p = []\n",
    "Xsum1 = 0\n",
    "Ysum1 = 0\n",
    "Xsum2 = 0\n",
    "Ysum2 = 0\n",
    "Xsum3 = 0\n",
    "Ysum3 = 0\n",
    "var1x= np.zeros(1275)\n",
    "var1y = np.zeros(1275)\n",
    "var1xy = np.zeros(1275)\n",
    "covs = np.zeros([2,2])\n",
    "var2=[]\n",
    "var3=[]\n",
    "sum1 = []\n",
    "sum2 = []\n",
    "sum3 = []\n",
    "tot_mean = np.zeros([3,2])\n",
    "counter1 = 0\n",
    "counter2 = 0\n",
    "counter3 = 0\n",
    "######for class 1###############\n",
    "\n",
    "\n",
    "for i in range (0,y_train.shape[0]):\n",
    "    if(y_train[i][1] == 1):\n",
    "        counter1+=1\n",
    "        Xsum1 += x_train[i]\n",
    "        Ysum1 += y_train[i][0]        \n",
    "\n",
    "Xmean1 = Xsum1/counter1\n",
    "Ymean1 = Ysum1/counter1\n",
    "Ymean.append(Ymean1)\n",
    "\n",
    "for i in range (0,y_train.shape[0]):\n",
    "    if(y_train[i][1] == 1):\n",
    "        var1x[i]= x_train[i]-Xmean1\n",
    "        var1y[i] = y_train[i][0]-Ymean1\n",
    "    \n",
    "        \n",
    "newvar1x = var1x @ var1x.T\n",
    "newvar1y = var1y@var1y.T\n",
    "covxy=np.mean(var1x*var1y)\n",
    "cov1x = newvar1x/counter1\n",
    "cov1y = newvar1y/counter1\n",
    "\n",
    "\n",
    "covs[0][0] =cov1x\n",
    "covs[0][1]=covxy\n",
    "covs[1][0]=covxy\n",
    "covs[1][1]=cov1y\n",
    "\n",
    "sum1.append(Xmean1)\n",
    "sum1.append(Ymean1)\n",
    "\n",
    "\n",
    "p1 = counter1/1275\n",
    "\n",
    "#####for class 2################\n",
    "\n",
    "for i in range (0,y_train.shape[0]):\n",
    "    if(y_train[i][1] == 2):\n",
    "        counter2+=1\n",
    "        Xsum2 += x_train[i]\n",
    "        Ysum2 += y_train[i][0]  \n",
    "\n",
    "p2 = counter2/1275\n",
    "\n",
    "Xmean2 = Xsum2/counter2\n",
    "Ymean2 = Ysum2/counter2\n",
    "\n",
    "Ymean.append(Ymean2)\n",
    "\n",
    "sum2.append(Xmean2)\n",
    "sum2.append(Ymean2)\n",
    "\n",
    "\n",
    "#####for class 3################\n",
    "\n",
    "for i in range(0,y_train.shape[0]):\n",
    "    if(y_train[i][1] == 3):\n",
    "        counter3 += 1\n",
    "        Xsum3 += x_train[i]\n",
    "        Ysum3 += y_train[i][0]  \n",
    "p3 = counter3/1275\n",
    "\n",
    "Xmean3 = Xsum3/counter3\n",
    "Ymean3 = Ysum3/counter3\n",
    "\n",
    "Ymean.append(Ymean3)\n",
    "\n",
    "sum3.append(Xmean3)\n",
    "sum3.append(Ymean3)\n",
    "\n",
    "\n",
    "p.append(p1)\n",
    "p.append(p2)\n",
    "p.append(p3)\n",
    "\n",
    "tot_mean[0,0]=sum1[0]\n",
    "tot_mean[0,1]= sum1[1]\n",
    "tot_mean[1,0] = sum2[0]\n",
    "tot_mean[1,1] = sum2[1]\n",
    "tot_mean[2,0] = sum3[0]\n",
    "tot_mean[2,1] = sum3[1]\n",
    "# tot_mean.append(sum2)\n",
    "# tot_mean.append(sum3)\n",
    "\n",
    "\n",
    "\n",
    "\n",
    "print(\"p values:\\n \",p)\n",
    "print(\"Empirical means:\\n\",tot_mean )\n",
    "print(\"covariance:\\n\",covs)\n",
    "\n"
   ]
  },
  {
   "cell_type": "markdown",
   "metadata": {},
   "source": [
    "# d) Since we know ($\\widehat{\\boldsymbol{\\mu}}_y \\text{ } \\forall \\text{ } y$,$\\widehat{\\Sigma}$,$\\widehat{p}(y)$), we can in turn obtain the LDA decision rule. Let:\n",
    "\n",
    "$\\boldsymbol{\\beta}_y = \\Sigma^{-1} \\boldsymbol{\\mu}_y $,\n",
    "\n",
    "$\\alpha_y = - \\frac{1}{2} \\boldsymbol{\\mu}_y^T \\Sigma^{-1} \\boldsymbol{\\mu}_y + \\text{log}(p(y))$;\n",
    "\n",
    "with this, the LDA decision rule can be re-expressed as:\n",
    "\n",
    "$h_{LDA} (\\boldsymbol{x}) = \\text{argmax}_y \\text{ } \\boldsymbol{\\beta}_y^T \\boldsymbol{x} + \\alpha_y$.  \n",
    "\n",
    "The objective function in the preceding equation basically projects $\\boldsymbol{x}$ into $1$ dimension and offsets it.  \n",
    "\n",
    "Obtain and display the values of $\\boldsymbol{\\beta}_y \\forall y$ and $\\alpha_y \\forall y$ using print statements."
   ]
  },
  {
   "cell_type": "code",
   "execution_count": 96,
   "metadata": {},
   "outputs": [
    {
     "name": "stdout",
     "output_type": "stream",
     "text": [
      "Beta:\n",
      " [[  4.06831591   4.12221051]\n",
      " [-14.00836189 -14.04655596]\n",
      " [-16.01304735  -1.97956013]]\n",
      "alpha:\n",
      " [[ -9.48456575]\n",
      " [-99.50981975]\n",
      " [-66.15714513]]\n"
     ]
    }
   ],
   "source": [
    "# Write code here:\n",
    "\n",
    "cov_inv = np.linalg.inv(cov)\n",
    "Beta = cov_inv@tot_mean.T\n",
    "print(\"Beta:\\n\",Beta.T)\n",
    "\n",
    "alpha_val = -0.5*tot_mean@cov_inv@tot_mean.T + np.log(p)\n",
    "#print(alpha_val)\n",
    "\n",
    "#extract diagonal\n",
    "alpha = np.zeros([3,1])\n",
    "\n",
    "alpha[0][0] = alpha_val[0][0]\n",
    "alpha[1][0] = alpha_val[1][1]\n",
    "alpha[2][0] = alpha_val[2][2]\n",
    "\n",
    "print(\"alpha:\\n\",alpha)\n",
    "\n",
    "\n"
   ]
  },
  {
   "cell_type": "markdown",
   "metadata": {},
   "source": [
    "e) Using the derived LDA decision rule, obtain and display the Correct Classification Rates (CCR) for the training and testing sets. Also, explain the resulting CCRs.\n",
    "\n",
    "\n"
   ]
  },
  {
   "cell_type": "code",
   "execution_count": 143,
   "metadata": {},
   "outputs": [
    {
     "name": "stdout",
     "output_type": "stream",
     "text": [
      "LDA - Train CCR:  1.0\n",
      "LDA - Test CCR:  1.0\n"
     ]
    }
   ],
   "source": [
    " # Write code here:\n",
    "point_x = np.zeros([1275,2])\n",
    "\n",
    "for i in range(0,1275):\n",
    "    point_x[i,0] = x_train[i]\n",
    "    point_x[i,1] = y_train[i,0]\n",
    "\n",
    "# print(point_x.shape)\n",
    "    \n",
    "h = Beta.T @ point_x.T + alpha\n",
    "h_argmax = h.argmax(axis = 0)+1\n",
    "\n",
    "# print(h.shape)\n",
    "\n",
    "counter = 0\n",
    "for i in range(0,1275):\n",
    "    if h_argmax[i] == y_train[i,1]:\n",
    "        counter += 1\n",
    "print(\"LDA - Train CCR: \",counter/1275)\n",
    "\n",
    "\n",
    "\n",
    "point_test = np.zeros([225,2])\n",
    "for i in range(0,225):\n",
    "    point_test[i,0] = x_test[i]\n",
    "    point_test[i,1] = ytest[i,0]\n",
    "\n",
    "h_test = Beta.T @ point_test.T + alpha\n",
    "h_argmax_test = h_test.argmax(axis = 0)+1\n",
    "\n",
    "\n",
    "counter_ = 0\n",
    "for i in range(0,225):\n",
    "    if h_argmax_test[i] == ytest[i,1]:\n",
    "        counter_ += 1\n",
    "print(\"LDA - Test CCR: \",counter_/225)\n",
    "\n",
    "\n",
    "\n",
    "\n",
    "    "
   ]
  },
  {
   "cell_type": "code",
   "execution_count": null,
   "metadata": {},
   "outputs": [],
   "source": []
  },
  {
   "cell_type": "code",
   "execution_count": null,
   "metadata": {},
   "outputs": [],
   "source": [
    "Explain CCR:\n",
    "According to the CCR obtained, both train and test CCR has values of 1.0. This is obvious because we implemented our \n",
    "points and lables from the training set. Then, we apply to hLDA function (which has alpha and beta derived from\n",
    "                                                                         training set). \n",
    "Because for the CCR the training data value for labels are compared to hLDA, so that the number of getting\n",
    "all correct labels should be the same as number of dataset. \n",
    "\n",
    "Also the mean values for each classes are far and the spreads are small that gives CCR even close to 1, since \n",
    "ther is less chance to be overlab between two clusters.                       "
   ]
  },
  {
   "cell_type": "markdown",
   "metadata": {},
   "source": [
    "f) Here, we will test our LDA classifier on $5$ new data points:\n",
    "    \n",
    "$\\boldsymbol{x}_1 = [10,10]^T,\\boldsymbol{x}_2 = [-10,10]^T,\\boldsymbol{x}_3 = [-10,-10]^T,\\boldsymbol{x}_4 = [10,-10]^T,\\boldsymbol{x}_5 = [0,0]^T$\n",
    "\n",
    "Plot these new test points along with the original Gaussian data on a new figure. For each new test point, compute the score of the test point belonging to class $y \\text{ } \\forall \\text{ } y \\in \\{1,...,m \\}$ as:  $\\text{score}_y = \\boldsymbol{\\beta}_y^T \\boldsymbol{x} + \\alpha_y$ and display the scores using print statements.  \n",
    "\n",
    "Describe the resulting scores and rationalize why they make sense based on proximity of a new test point to a certain data cluster.   "
   ]
  },
  {
   "cell_type": "code",
   "execution_count": 97,
   "metadata": {},
   "outputs": [
    {
     "name": "stdout",
     "output_type": "stream",
     "text": [
      "[[ 10.  10.]\n",
      " [-10.  10.]\n",
      " [-10. -10.]\n",
      " [ 10. -10.]\n",
      " [  0.   0.]]\n",
      "[[  72.42069847 -380.05899821 -246.08321988]\n",
      " [  -8.94561975  -99.89176051   74.17772707]\n",
      " [ -91.38982997  181.03935871  113.76892963]\n",
      " [ -10.02351176  -99.12787899 -206.49201732]\n",
      " [  -9.48456575  -99.50981975  -66.15714513]]\n"
     ]
    },
    {
     "data": {
      "image/png": "[encoded data removed]",
      "text/plain": [
       "<Figure size 432x288 with 1 Axes>"
      ]
     },
     "metadata": {
      "needs_background": "light"
     },
     "output_type": "display_data"
    }
   ],
   "source": [
    "# Write code here:\n",
    "\n",
    "\n",
    "x_all = np.zeros([5,2])\n",
    "x_all[0][0] = 10\n",
    "x_all[0][1] = 10\n",
    "x_all[1][0] = -10\n",
    "x_all[1][1] = 10\n",
    "x_all[2][0] = -10\n",
    "x_all[2][1] = -10\n",
    "x_all[3][0] = 10\n",
    "x_all[3][1] = -10\n",
    "x_all[4][0] = 0\n",
    "x_all[4][1] = 0\n",
    "\n",
    "\n",
    "print(x_all)\n",
    "\n",
    "\n",
    "scorey = Beta.T@x_all.T+alpha\n",
    "scorey = scorey.T\n",
    "print(scorey)\n",
    "\n",
    "plt.scatter(x_all[0][0],x_all[0][1])\n",
    "plt.scatter(x_all[1][0],x_all[1][1])\n",
    "plt.scatter(x_all[2][0],x_all[2][1])\n",
    "plt.scatter(x_all[3][0],x_all[3][1])\n",
    "plt.scatter(x_all[4][0],x_all[4][1])\n",
    "\n",
    "\n",
    "\n",
    "x1_samples = np.random.multivariate_normal(Mean1,cov,500)\n",
    "x1_samples = np.column_stack((x1_samples, label1))\n",
    "\n",
    "x2_samples = np.random.multivariate_normal(Mean2,cov,500)\n",
    "x2_samples = np.column_stack((x2_samples, label2))\n",
    "\n",
    "x3_samples = np.random.multivariate_normal(Mean3,cov,500)\n",
    "x3_samples = np.column_stack((x3_samples, label3))\n",
    "\n",
    "\n",
    "\n",
    "plt.scatter(x1_samples[:,0],x1_samples[:,1], marker='+')\n",
    "plt.scatter(x2_samples[:,0],x2_samples[:,1], c= 'green', marker='o')\n",
    "plt.scatter(x3_samples[:,0],x3_samples[:,1], marker='*')\n",
    "\n",
    "\n",
    "plt.show()\n",
    "\n"
   ]
  },
  {
   "cell_type": "code",
   "execution_count": null,
   "metadata": {},
   "outputs": [],
   "source": [
    "If we look at the new points added to the plots, these new points are corresponds to the different \n",
    "clusters/classes.\n",
    "For example, the point (10,10) has the highest score value because it corresponds to the brown cluster(class1)\n",
    "the most among three different classes.\n",
    "Thus, the value that corresponds to [10,10] has the biggest scale. On the other hand, we can see that (0,0)\n",
    "has the largest scale at the 5th row. The reason is because it is close to class1 and far from the other 2 classes.\n"
   ]
  },
  {
   "cell_type": "markdown",
   "metadata": {},
   "source": [
    "**3) Logistic Regression**"
   ]
  },
  {
   "cell_type": "markdown",
   "metadata": {},
   "source": [
    "In this problem, we will implement Logistic Regression using the built in capability (from sklearn).\n",
    "\n",
    "Form a Logistic Regression classifer using the training data from Q$2$ and apply it to the training and testing sets from Q$2$. Obtain the CCRs for the training and testing sets; also, explain the resulting CCRs. "
   ]
  },
  {
   "cell_type": "code",
   "execution_count": 141,
   "metadata": {},
   "outputs": [
    {
     "name": "stdout",
     "output_type": "stream",
     "text": [
      "(1275, 2)\n",
      "CCR for Train data is: 1.0\n",
      "CCR for Test data is: 1.0\n"
     ]
    },
    {
     "name": "stderr",
     "output_type": "stream",
     "text": [
      "/Library/Frameworks/Python.framework/Versions/3.6/lib/python3.6/site-packages/sklearn/linear_model/logistic.py:433: FutureWarning: Default solver will be changed to 'lbfgs' in 0.22. Specify a solver to silence this warning.\n",
      "  FutureWarning)\n",
      "/Library/Frameworks/Python.framework/Versions/3.6/lib/python3.6/site-packages/sklearn/linear_model/logistic.py:460: FutureWarning: Default multi_class will be changed to 'auto' in 0.22. Specify the multi_class option to silence this warning.\n",
      "  \"this warning.\", FutureWarning)\n",
      "/Library/Frameworks/Python.framework/Versions/3.6/lib/python3.6/site-packages/sklearn/linear_model/logistic.py:433: FutureWarning: Default solver will be changed to 'lbfgs' in 0.22. Specify a solver to silence this warning.\n",
      "  FutureWarning)\n",
      "/Library/Frameworks/Python.framework/Versions/3.6/lib/python3.6/site-packages/sklearn/linear_model/logistic.py:460: FutureWarning: Default multi_class will be changed to 'auto' in 0.22. Specify the multi_class option to silence this warning.\n",
      "  \"this warning.\", FutureWarning)\n"
     ]
    }
   ],
   "source": [
    "from sklearn.linear_model import LogisticRegression\n",
    "\n",
    "\n",
    "\n",
    "train_labels = np.zeros([1275,1])\n",
    "test_labels = np.zeros([225,1])\n",
    "\n",
    "for i in range(0,1275):\n",
    "    train_labels[i] = y_train[i,1]\n",
    "    \n",
    "for i in range(0,225):\n",
    "    test_labels[i] = ytest[i,1]\n",
    "    \n",
    "logreg = LogisticRegression()\n",
    "#logreg.fit(point_x,train_labels)\n",
    "X = np.stack((x_train,y_train[:,0]), axis=1)\n",
    "print(X.shape)\n",
    "logreg.fit(X,y_train[:,1])    \n",
    "predict_train_label = logreg.predict(X)\n",
    " \n",
    "\n",
    "    \n",
    "count_train=0\n",
    "\n",
    "for i in range(0,1275):\n",
    "    if(train_labels[i] == predict_train_label[i]):\n",
    "        count_train += 1\n",
    "\n",
    "print(\"CCR for Train data is:\",count_train/1275 )\n",
    "    \n",
    "\n",
    "    \n",
    "X_test = np.stack((x_test,ytest[:,0]), axis=1)\n",
    "\n",
    "logreg.fit(X_test,ytest[:,1])    \n",
    "predict_test_label = logreg.predict(X_test)\n",
    " \n",
    "\n",
    "count_test=0\n",
    "\n",
    "for i in range(0,225):\n",
    "    if(test_labels[i] == predict_test_label[i]):\n",
    "        count_test += 1\n",
    "\n",
    "print(\"CCR for Test data is:\",count_test/225 )\n",
    "    \n",
    "    \n",
    "\n",
    "    \n",
    "\n",
    "\n",
    "\n",
    "\n",
    "\n",
    "\n",
    "\n",
    "# logreg.fit(X, Y)\n",
    "\n",
    "# Write code here:"
   ]
  },
  {
   "cell_type": "code",
   "execution_count": null,
   "metadata": {},
   "outputs": [],
   "source": []
  },
  {
   "cell_type": "code",
   "execution_count": null,
   "metadata": {},
   "outputs": [],
   "source": [
    "By observing the training and test sets for LDA the CCR results 1. The only difference of Logistic Regression\n",
    "and LDA is the mathmatical difference. Therefore, the CCR for Logistic Regression should not be big different \n",
    "from LDA.According to the plot, the cluster variance are very small and also the class means are far from \n",
    "each other. Therefore, regarding these factors the Logistic Regression should be close to 1.\n"
   ]
  },
  {
   "cell_type": "code",
   "execution_count": null,
   "metadata": {},
   "outputs": [],
   "source": []
  }
 ],
 "metadata": {
  "kernelspec": {
   "display_name": "Python 3",
   "language": "python",
   "name": "python3"
  },
  "language_info": {
   "codemirror_mode": {
    "name": "ipython",
    "version": 3
   },
   "file_extension": ".py",
   "mimetype": "text/x-python",
   "name": "python",
   "nbconvert_exporter": "python",
   "pygments_lexer": "ipython3",
   "version": "3.6.8"
  }
 },
 "nbformat": 4,
 "nbformat_minor": 2
}
